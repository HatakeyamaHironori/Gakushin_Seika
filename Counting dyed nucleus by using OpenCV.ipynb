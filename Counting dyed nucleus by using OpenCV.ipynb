{
 "cells": [
  {
   "cell_type": "markdown",
   "id": "a663f18a",
   "metadata": {},
   "source": [
    "### 申請者が学部生の頃（2022年）に作成したOpenCVをもちいた細胞の核認識プログラミング\n",
    "#### ただし論文に載るものはこれに深層学習を加え、核の認識精度をさらに上げたものになる。\n",
    "#### 以下のようにディレクトリ（フォルダ）を構成し、画像ファイルを一度に全て核の数をcsvにファイルごとに核の数を出力することが可能である。例えば、rawdata1（画像ファイル.tifを複数含む）とrawdata2（同左）の生細胞数を比較したい場合、dataディレクトリ内に入れ、このプラグラムを走らせる。これだけですぐに解析を始めることができるような形でoutputディレクトリ内のcsvファイルに生細胞数が記入されていく。もちろんこのプログラムは1つから、3つを超えるファイルであっても同様に利用することができる。さらに、数えた核を示した証拠となる画像も同様にoutputファイルに生成される。"
   ]
  },
  {
   "cell_type": "markdown",
   "id": "ee1b7741",
   "metadata": {},
   "source": [
    "### Counting dyed nucleus by using OpenCV\n",
    "dir  \n",
    "├OpenCV.ipynb(This file)  \n",
    "└dir_data  \n",
    "&emsp;&emsp;├dir_rawdata1  \n",
    "&emsp;&emsp;│ ├rawdata_1.tif  \n",
    "&emsp;&emsp;│ └rawdata_2.tif...etc  \n",
    "&emsp;&emsp;├dir_rawdata2...etc  \n",
    "&emsp;&emsp;└dir_output  \n",
    "&emsp;&emsp;&emsp;├dir_contours  \n",
    "&emsp;&emsp;&emsp;├dir_nucleus...etc  \n",
    "&emsp;&emsp;&emsp;└nucleus.csv  \n"
   ]
  },
  {
   "cell_type": "markdown",
   "id": "4c2ec65b",
   "metadata": {},
   "source": [
    "#### The version of Python and libraries used"
   ]
  },
  {
   "cell_type": "code",
   "execution_count": 12,
   "id": "4a6dbace",
   "metadata": {},
   "outputs": [],
   "source": [
    "#Confirm Python version\n",
    "import sys\n",
    "# Standard library\n",
    "import os\n",
    "import glob\n",
    "# Third-party library\n",
    "import cv2\n",
    "import csv\n",
    "import numpy as np"
   ]
  },
  {
   "cell_type": "code",
   "execution_count": 25,
   "id": "34ba11d1",
   "metadata": {},
   "outputs": [
    {
     "name": "stdout",
     "output_type": "stream",
     "text": [
      "Python version : 3.8.8\n",
      "cv2 version : 4.6.0\n",
      "csv version : 1.0\n",
      "numpy version : 1.20.1\n"
     ]
    }
   ],
   "source": [
    "print('Python version :',sys.version.split()[0])\n",
    "print('cv2 version :',cv2.__version__)\n",
    "print('csv version :',csv.__version__)\n",
    "print('numpy version :',np.__version__)"
   ]
  },
  {
   "cell_type": "markdown",
   "id": "7ada2f1a",
   "metadata": {},
   "source": [
    "#### Image input settings"
   ]
  },
  {
   "cell_type": "code",
   "execution_count": 27,
   "id": "84a6f643",
   "metadata": {},
   "outputs": [],
   "source": [
    "# Specifying a folder\n",
    "folder=\"#######\" #Required\n",
    "def tif(name): # Remove \".tif\" when reading with os.\n",
    "    inputfile = 'data/'+folder+'/'\n",
    "    ext = '.tif'\n",
    "    return inputfile+str(name)+ext"
   ]
  },
  {
   "cell_type": "markdown",
   "id": "d2e90199",
   "metadata": {},
   "source": [
    "#### Image data preprocessing"
   ]
  },
  {
   "cell_type": "code",
   "execution_count": 32,
   "id": "7defcc67",
   "metadata": {},
   "outputs": [],
   "source": [
    "# Removing noises\n",
    "def noise(image,x):\n",
    "    kernel = cv2.getStructuringElement(cv2.MORPH_RECT, (x, x))\n",
    "    image = cv2.morphologyEx(image, cv2.MORPH_OPEN, kernel, iterations=2)\n",
    "    return kernel,image"
   ]
  },
  {
   "cell_type": "markdown",
   "id": "8fddc4b3",
   "metadata": {},
   "source": [
    "#### Reading raw data"
   ]
  },
  {
   "cell_type": "code",
   "execution_count": 38,
   "id": "ad527925",
   "metadata": {},
   "outputs": [],
   "source": [
    "paths=glob.glob( 'data/'+folder+'/*')\n",
    "filenames=[]\n",
    "for p in paths:\n",
    "    name = os.path.splitext(os.path.basename(p))[0]\n",
    "    filenames.append(name)\n",
    "# Reading output directory name\n",
    "directorynames=[\"grayscale\",\"contrast\",\"threshold\",\"contours\",\"nucleus\",\"mask\",\"noise\"]\n",
    "# Execute the following code once when the corresponding directory does not exist\n",
    "\"\"\"\n",
    "for directoryname in directorynames:\n",
    "    os.mkdir(outputfile + str(directoryname))\n",
    "\"\"\"\n",
    "for filename in filenames:\n",
    "    # Reading raw data files\n",
    "    name=filename\n",
    "    img = cv2.imread(tif(name))\n",
    "    img1=cv2.cvtColor(img, cv2.COLOR_BGR2GRAY) # grayscale conversion\n",
    "    # write(name,img1,directorynames[0])"
   ]
  },
  {
   "cell_type": "markdown",
   "id": "752af3b5",
   "metadata": {},
   "source": [
    "#### Creating a CSV file"
   ]
  },
  {
   "cell_type": "code",
   "execution_count": 31,
   "id": "22d1ea31",
   "metadata": {},
   "outputs": [],
   "source": [
    "with open('data/output/nucleus.csv', 'w') as f: # 上書きする''w\n",
    "    writer = csv.writer(f)\n",
    "    writer.writerow([\"filename\", \"nucleus number\", \"white_area\",\"black_area\",\"white_area(%)\",\"black_area(%)\"])"
   ]
  },
  {
   "cell_type": "markdown",
   "id": "6d9cda43",
   "metadata": {},
   "source": [
    "#### Increasing the contrast of raw datas"
   ]
  },
  {
   "cell_type": "code",
   "execution_count": 46,
   "id": "7264a3fd",
   "metadata": {},
   "outputs": [],
   "source": [
    "t=10 #Required\n",
    "s=2 #Required\n",
    "x = np.arange(256)\n",
    "y = np.clip(255 / (t - s) * x - 255 / (t - s) * s ,0, 255)\n",
    "for filename in filenames:\n",
    "    # Reading raw data files\n",
    "    name=filename\n",
    "    img = cv2.imread(tif(name))\n",
    "    img1=cv2.cvtColor(img, cv2.COLOR_BGR2GRAY) # grayscale conversion\n",
    "    # write(name,img1,directorynames[0])\n",
    "    \n",
    "    \n",
    "    # Increasing the contrast of raw datas\n",
    "    img2 = cv2.LUT(img1, y)\n",
    "    img2 = img2.astype(np.uint8) #Convert dtype('uint8')\n",
    "    write(name,img2,directorynames[1])"
   ]
  },
  {
   "cell_type": "markdown",
   "id": "c0f5c876",
   "metadata": {},
   "source": [
    "#### Thresholding, Binarization, and Removing noises"
   ]
  },
  {
   "cell_type": "code",
   "execution_count": 47,
   "id": "5412ab53",
   "metadata": {},
   "outputs": [],
   "source": [
    "t=10 #Required\n",
    "s=2 #Required\n",
    "x = np.arange(256)\n",
    "y = np.clip(255 / (t - s) * x - 255 / (t - s) * s ,0, 255)\n",
    "threshold = 55 #Required\n",
    "for filename in filenames:\n",
    "    # Reading raw data files\n",
    "    name=filename\n",
    "    img = cv2.imread(tif(name))\n",
    "    img1=cv2.cvtColor(img, cv2.COLOR_BGR2GRAY) # grayscale conversion\n",
    "    # write(name,img1,directorynames[0])    \n",
    "    img2 = cv2.LUT(img1, y)\n",
    "    img2 = img2.astype(np.uint8) #Convert dtype('uint8')\n",
    "    write(name,img2,directorynames[1])\n",
    "    \n",
    "    \n",
    "    # Thresholding, Binarization, and Removing noises\n",
    "    ret, img_thresh = cv2.threshold(img2, threshold, 255, cv2.THRESH_BINARY) # Binarization\n",
    "    kernel,img_thresh=noise(img_thresh,5) # Removing noises\n",
    "    #write(name, img_thresh,directorynames[6])"
   ]
  },
  {
   "cell_type": "markdown",
   "id": "ae25f81f",
   "metadata": {},
   "source": [
    "#### contour extraction"
   ]
  },
  {
   "cell_type": "code",
   "execution_count": 44,
   "id": "97175f93",
   "metadata": {},
   "outputs": [],
   "source": [
    "for filename in filenames:\n",
    "    # Reading raw data files\n",
    "    name=filename\n",
    "    img = cv2.imread(tif(name))\n",
    "    img1=cv2.cvtColor(img, cv2.COLOR_BGR2GRAY) # grayscale conversion\n",
    "    # write(name,img1,directorynames[0])    \n",
    "    img2 = cv2.LUT(img1, y)\n",
    "    img2 = img2.astype(np.uint8) #Convert dtype('uint8')\n",
    "    write(name,img2,directorynames[1])   \n",
    "    ret, img_thresh = cv2.threshold(img2, threshold, 255, cv2.THRESH_BINARY) # Binarization\n",
    "    kernel,img_thresh=noise(img_thresh,5) # Removing noises\n",
    "    #write(name, img_thresh,directorynames[6])\n",
    "    \n",
    "    \n",
    "    # contour extraction\n",
    "    contours, hierarchy = cv2.findContours(img_thresh, cv2.RETR_EXTERNAL, cv2.CHAIN_APPROX_SIMPLE)\n",
    "    img5 = cv2.drawContours(img, contours, -1, (25, 255, 255), 2)\n",
    "    write(name,img5,directorynames[3])"
   ]
  },
  {
   "cell_type": "markdown",
   "id": "4eb0dd12",
   "metadata": {},
   "source": [
    "#### Counting the number of contours"
   ]
  },
  {
   "cell_type": "code",
   "execution_count": 49,
   "id": "90e98c7d",
   "metadata": {},
   "outputs": [],
   "source": [
    "for filename in filenames:\n",
    "    # Reading raw data files\n",
    "    name=filename\n",
    "    img = cv2.imread(tif(name))\n",
    "    img1=cv2.cvtColor(img, cv2.COLOR_BGR2GRAY) # grayscale conversion\n",
    "    # write(name,img1,directorynames[0])    \n",
    "    img2 = cv2.LUT(img1, y)\n",
    "    img2 = img2.astype(np.uint8) #Convert dtype('uint8')\n",
    "    write(name,img2,directorynames[1])   \n",
    "    ret, img_thresh = cv2.threshold(img2, threshold, 255, cv2.THRESH_BINARY) # Binarization\n",
    "    kernel,img_thresh=noise(img_thresh,5) # Removing noises\n",
    "    #write(name, img_thresh,directorynames[6])\n",
    "    contours, hierarchy = cv2.findContours(img_thresh, cv2.RETR_EXTERNAL, cv2.CHAIN_APPROX_SIMPLE)\n",
    "    img5 = cv2.drawContours(img, contours, -1, (25, 255, 255), 2)\n",
    "    write(name,img5,directorynames[3])\n",
    "    \n",
    "    \n",
    "    # Counting the number of contours\n",
    "    n=len(contours)\n",
    "    # Point at the centroid of the contour\n",
    "    for i, cnt in enumerate(contours):\n",
    "        # Calculating the moments of the contour\n",
    "        M = cv2.moments(cnt)\n",
    "        # Calculating the centroid from moments\n",
    "        cx = M[\"m10\"] / (M[\"m00\"]+10**-10)\n",
    "        cy = M[\"m01\"] / (M[\"m00\"]+10**-10)\n",
    "        area = cv2.contourArea(cnt)\n",
    "        img5=cv2.circle(img5, (int(cx),int(cy)), 5, (200, 60, 255), thickness=-1)\n",
    "    #write(name,img5,directorynames[4])"
   ]
  },
  {
   "cell_type": "markdown",
   "id": "ffaa7da2",
   "metadata": {},
   "source": [
    "#### Calculating the nuclear area ratio"
   ]
  },
  {
   "cell_type": "code",
   "execution_count": 51,
   "id": "46a54482",
   "metadata": {},
   "outputs": [],
   "source": [
    "for filename in filenames:\n",
    "    # Reading raw data files\n",
    "    name=filename\n",
    "    img = cv2.imread(tif(name))\n",
    "    img1=cv2.cvtColor(img, cv2.COLOR_BGR2GRAY) # grayscale conversion\n",
    "    # write(name,img1,directorynames[0])    \n",
    "    img2 = cv2.LUT(img1, y)\n",
    "    img2 = img2.astype(np.uint8) #Convert dtype('uint8')\n",
    "    write(name,img2,directorynames[1])   \n",
    "    ret, img_thresh = cv2.threshold(img2, threshold, 255, cv2.THRESH_BINARY) # Binarization\n",
    "    kernel,img_thresh=noise(img_thresh,5) # Removing noises\n",
    "    #write(name, img_thresh,directorynames[6])\n",
    "    contours, hierarchy = cv2.findContours(img_thresh, cv2.RETR_EXTERNAL, cv2.CHAIN_APPROX_SIMPLE)\n",
    "    img5 = cv2.drawContours(img, contours, -1, (25, 255, 255), 2)\n",
    "    write(name,img5,directorynames[3])\n",
    "    n=len(contours)\n",
    "    # Point at the centroid of the contour\n",
    "    for i, cnt in enumerate(contours):\n",
    "        # Calculating the moments of the contour\n",
    "        M = cv2.moments(cnt)\n",
    "        # Calculating the centroid from moments\n",
    "        cx = M[\"m10\"] / (M[\"m00\"]+10**-10)\n",
    "        cy = M[\"m01\"] / (M[\"m00\"]+10**-10)\n",
    "        area = cv2.contourArea(cnt)\n",
    "        img5=cv2.circle(img5, (int(cx),int(cy)), 5, (200, 60, 255), thickness=-1)\n",
    "    #write(name,img5,directorynames[4])\n",
    "    \n",
    "    \n",
    "    # Calculating the nuclear area ratio\n",
    "    # Total number of pixels\n",
    "    whole_area=img_thresh.size\n",
    "    # Number of white pixels\n",
    "    white_area=cv2.countNonZero(img_thresh)\n",
    "    print('White_Area='+str(white_area))\n",
    "    # Number of black pixels\n",
    "    black_area=whole_area-white_area\n",
    "    # Showing the respective ratios\n",
    "    print('White_Area='+str(white_area/whole_area*100)+'%')\n",
    "    print('Black_Area='+str(black_area/whole_area*100)+'%')"
   ]
  },
  {
   "cell_type": "markdown",
   "id": "a4bdd6eb",
   "metadata": {},
   "source": [
    "#### Write to a CSV file"
   ]
  },
  {
   "cell_type": "code",
   "execution_count": 52,
   "id": "8e5e5437",
   "metadata": {},
   "outputs": [],
   "source": [
    "for filename in filenames:\n",
    "    # Reading raw data files\n",
    "    name=filename\n",
    "    img = cv2.imread(tif(name))\n",
    "    img1=cv2.cvtColor(img, cv2.COLOR_BGR2GRAY) # grayscale conversion\n",
    "    # write(name,img1,directorynames[0])    \n",
    "    img2 = cv2.LUT(img1, y)\n",
    "    img2 = img2.astype(np.uint8) #Convert dtype('uint8')\n",
    "    write(name,img2,directorynames[1])   \n",
    "    ret, img_thresh = cv2.threshold(img2, threshold, 255, cv2.THRESH_BINARY) # Binarization\n",
    "    kernel,img_thresh=noise(img_thresh,5) # Removing noises\n",
    "    #write(name, img_thresh,directorynames[6])\n",
    "    contours, hierarchy = cv2.findContours(img_thresh, cv2.RETR_EXTERNAL, cv2.CHAIN_APPROX_SIMPLE)\n",
    "    img5 = cv2.drawContours(img, contours, -1, (25, 255, 255), 2)\n",
    "    write(name,img5,directorynames[3])\n",
    "    n=len(contours)\n",
    "    # Point at the centroid of the contour\n",
    "    for i, cnt in enumerate(contours):\n",
    "        # Calculating the moments of the contour\n",
    "        M = cv2.moments(cnt)\n",
    "        # Calculating the centroid from moments\n",
    "        cx = M[\"m10\"] / (M[\"m00\"]+10**-10)\n",
    "        cy = M[\"m01\"] / (M[\"m00\"]+10**-10)\n",
    "        area = cv2.contourArea(cnt)\n",
    "        img5=cv2.circle(img5, (int(cx),int(cy)), 5, (200, 60, 255), thickness=-1)\n",
    "    #write(name,img5,directorynames[4])\n",
    "     # Total number of pixels\n",
    "    whole_area=img_thresh.size\n",
    "    # Number of white pixels\n",
    "    white_area=cv2.countNonZero(img_thresh)\n",
    "    print('White_Area='+str(white_area))\n",
    "    # Number of black pixels\n",
    "    black_area=whole_area-white_area\n",
    "    # Showing the respective ratios\n",
    "    print('White_Area='+str(white_area/whole_area*100)+'%')\n",
    "    print('Black_Area='+str(black_area/whole_area*100)+'%')\n",
    "    \n",
    "    \n",
    "    # Write to a CSV file\n",
    "    with open('data/output/nucleus.csv', 'a') as f: # \"a\"は追記モード\n",
    "        writer = csv.writer(f)\n",
    "        writer.writerow([name, n, white_area, black_area, white_area/whole_area*100, black_area/whole_area*100])\n",
    "    print(n)"
   ]
  }
 ],
 "metadata": {
  "kernelspec": {
   "display_name": "Python 3",
   "language": "python",
   "name": "python3"
  },
  "language_info": {
   "codemirror_mode": {
    "name": "ipython",
    "version": 3
   },
   "file_extension": ".py",
   "mimetype": "text/x-python",
   "name": "python",
   "nbconvert_exporter": "python",
   "pygments_lexer": "ipython3",
   "version": "3.8.8"
  }
 },
 "nbformat": 4,
 "nbformat_minor": 5
}
